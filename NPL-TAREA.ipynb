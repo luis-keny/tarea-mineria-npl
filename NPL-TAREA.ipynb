{
 "cells": [
  {
   "cell_type": "markdown",
   "id": "3e0b6fce-69d9-4185-9e9e-c040833fb36f",
   "metadata": {},
   "source": [
    "# Análisis de Sentimientos Multifuente con TF-IDF y Naive Bayes"
   ]
  },
  {
   "cell_type": "markdown",
   "id": "17193f6c-bdd4-4b5d-b6f6-b9cb4b39f580",
   "metadata": {},
   "source": [
    "- En este trabajo voy a construir un clasificador de sentimientos a partir del All-in-One Sentiment Dataset. Primero cargaré el archivo local y detectaré las columnas de texto y etiqueta; luego dividiré los datos en entrenamiento y prueba. Transformaré los textos con TF-IDF y entrenaré un Naive Bayes Multinomial para distinguir opiniones positivas/negativas (y, si aplica, neutras). Finalmente evaluaré el modelo (accuracy, reporte y matriz de confusión) y lo usaré para predecir frases nuevas. Finalidad: obtener una línea base fiable y reproducible que me sirva para comparar mejoras futuras (mejores features, otros algoritmos o ajuste de hiperparámetros) y para aplicar el modelo a nuevos textos del mismo dominio."
   ]
  },
  {
   "cell_type": "markdown",
   "id": "859ad3ff-9f7e-4620-9e48-0dddf03f3f1c",
   "metadata": {},
   "source": [
    "# 1️⃣ Librerías"
   ]
  },
  {
   "cell_type": "code",
   "execution_count": 3,
   "id": "90bb0be5-3031-48bb-b4b0-e7ab2ec4f122",
   "metadata": {},
   "outputs": [
    {
     "name": "stdout",
     "output_type": "stream",
     "text": [
      "Librerías cargadas ✅\n"
     ]
    }
   ],
   "source": [
    "import os\n",
    "import pandas as pd\n",
    "import numpy as np\n",
    "\n",
    "from sklearn.model_selection import train_test_split\n",
    "from sklearn.feature_extraction.text import TfidfVectorizer\n",
    "from sklearn.naive_bayes import MultinomialNB\n",
    "from sklearn.pipeline import Pipeline\n",
    "from sklearn.metrics import accuracy_score, classification_report, confusion_matrix, ConfusionMatrixDisplay\n",
    "\n",
    "import matplotlib.pyplot as plt\n",
    "\n",
    "pd.set_option('display.max_colwidth', 120)\n",
    "print(\"Librerías cargadas ✅\")\n"
   ]
  },
  {
   "cell_type": "markdown",
   "id": "74e4edb7-da6a-4a68-b1bc-9876d9c3b665",
   "metadata": {},
   "source": [
    "# 2️⃣ Carga del dataset "
   ]
  },
  {
   "cell_type": "code",
   "execution_count": 4,
   "id": "b68456d8-a717-4378-94e2-fcd249fe1a17",
   "metadata": {},
   "outputs": [
    {
     "name": "stdout",
     "output_type": "stream",
     "text": [
      "(80000, 2)\n"
     ]
    },
    {
     "data": {
      "text/html": [
       "<div>\n",
       "<style scoped>\n",
       "    .dataframe tbody tr th:only-of-type {\n",
       "        vertical-align: middle;\n",
       "    }\n",
       "\n",
       "    .dataframe tbody tr th {\n",
       "        vertical-align: top;\n",
       "    }\n",
       "\n",
       "    .dataframe thead th {\n",
       "        text-align: right;\n",
       "    }\n",
       "</style>\n",
       "<table border=\"1\" class=\"dataframe\">\n",
       "  <thead>\n",
       "    <tr style=\"text-align: right;\">\n",
       "      <th></th>\n",
       "      <th>sentiment</th>\n",
       "      <th>text</th>\n",
       "    </tr>\n",
       "  </thead>\n",
       "  <tbody>\n",
       "    <tr>\n",
       "      <th>0</th>\n",
       "      <td>1</td>\n",
       "      <td>And here is the rap song \"African Warrior Queens\", for which ChatGPT wrote the lyrics 🤎 Yes, amateur but beautiful :...</td>\n",
       "    </tr>\n",
       "    <tr>\n",
       "      <th>1</th>\n",
       "      <td>1</td>\n",
       "      <td>We asked chatGPT ,\\n\\nHow to become a successful trader?\\n\\nHere is what it thinks,\\n\\n#ChatGPT https://t.co/UKfbOqyurW</td>\n",
       "    </tr>\n",
       "    <tr>\n",
       "      <th>2</th>\n",
       "      <td>0</td>\n",
       "      <td>When I finally manage to convince myself to peel out from under the sheets each morning the second thing I'm interes...</td>\n",
       "    </tr>\n",
       "    <tr>\n",
       "      <th>3</th>\n",
       "      <td>0</td>\n",
       "      <td>Although a healthier alternative to your typical vanilla extract, I purchased this product to add some vanilla flavo...</td>\n",
       "    </tr>\n",
       "    <tr>\n",
       "      <th>4</th>\n",
       "      <td>1</td>\n",
       "      <td>In my latest test, I asked #ChatGPT to write me a welcome letter for our attendees for banking school. #bankingschoo...</td>\n",
       "    </tr>\n",
       "  </tbody>\n",
       "</table>\n",
       "</div>"
      ],
      "text/plain": [
       "   sentiment  \\\n",
       "0          1   \n",
       "1          1   \n",
       "2          0   \n",
       "3          0   \n",
       "4          1   \n",
       "\n",
       "                                                                                                                      text  \n",
       "0  And here is the rap song \"African Warrior Queens\", for which ChatGPT wrote the lyrics 🤎 Yes, amateur but beautiful :...  \n",
       "1  We asked chatGPT ,\\n\\nHow to become a successful trader?\\n\\nHere is what it thinks,\\n\\n#ChatGPT https://t.co/UKfbOqyurW  \n",
       "2  When I finally manage to convince myself to peel out from under the sheets each morning the second thing I'm interes...  \n",
       "3  Although a healthier alternative to your typical vanilla extract, I purchased this product to add some vanilla flavo...  \n",
       "4  In my latest test, I asked #ChatGPT to write me a welcome letter for our attendees for banking school. #bankingschoo...  "
      ]
     },
     "metadata": {},
     "output_type": "display_data"
    },
    {
     "name": "stdout",
     "output_type": "stream",
     "text": [
      "['sentiment', 'text']\n"
     ]
    }
   ],
   "source": [
    "# 👉 Cambia a tu archivo subido\n",
    "RUTA_ARCHIVO = \"balanced_sentiment_dataset.csv\"   # o .xlsx\n",
    "\n",
    "# Carga flexible\n",
    "ext = os.path.splitext(RUTA_ARCHIVO)[1].lower()\n",
    "if ext == \".csv\":\n",
    "    df = pd.read_csv(RUTA_ARCHIVO, encoding=\"utf-8\", engine=\"python\")\n",
    "elif ext in [\".xls\", \".xlsx\"]:\n",
    "    df = pd.read_excel(RUTA_ARCHIVO)\n",
    "else:\n",
    "    raise ValueError(\"Formato no soportado. Usa .csv, .xls o .xlsx\")\n",
    "\n",
    "print(df.shape)\n",
    "display(df.head())\n",
    "print(df.columns.tolist())\n"
   ]
  },
  {
   "cell_type": "markdown",
   "id": "b5fd6252-844a-43dd-9448-933a3ac53bc5",
   "metadata": {},
   "source": [
    "# 3️⃣ Selección de columnas"
   ]
  },
  {
   "cell_type": "code",
   "execution_count": 5,
   "id": "65fd6e75-3068-4b1e-bf2c-77a6fa3ef80b",
   "metadata": {},
   "outputs": [
    {
     "name": "stdout",
     "output_type": "stream",
     "text": [
      "(80000, 2)\n"
     ]
    },
    {
     "data": {
      "text/html": [
       "<div>\n",
       "<style scoped>\n",
       "    .dataframe tbody tr th:only-of-type {\n",
       "        vertical-align: middle;\n",
       "    }\n",
       "\n",
       "    .dataframe tbody tr th {\n",
       "        vertical-align: top;\n",
       "    }\n",
       "\n",
       "    .dataframe thead th {\n",
       "        text-align: right;\n",
       "    }\n",
       "</style>\n",
       "<table border=\"1\" class=\"dataframe\">\n",
       "  <thead>\n",
       "    <tr style=\"text-align: right;\">\n",
       "      <th></th>\n",
       "      <th>texto</th>\n",
       "      <th>etiqueta</th>\n",
       "    </tr>\n",
       "  </thead>\n",
       "  <tbody>\n",
       "    <tr>\n",
       "      <th>0</th>\n",
       "      <td>And here is the rap song \"African Warrior Queens\", for which ChatGPT wrote the lyrics 🤎 Yes, amateur but beautiful :...</td>\n",
       "      <td>1</td>\n",
       "    </tr>\n",
       "    <tr>\n",
       "      <th>1</th>\n",
       "      <td>We asked chatGPT ,\\n\\nHow to become a successful trader?\\n\\nHere is what it thinks,\\n\\n#ChatGPT https://t.co/UKfbOqyurW</td>\n",
       "      <td>1</td>\n",
       "    </tr>\n",
       "    <tr>\n",
       "      <th>2</th>\n",
       "      <td>When I finally manage to convince myself to peel out from under the sheets each morning the second thing I'm interes...</td>\n",
       "      <td>0</td>\n",
       "    </tr>\n",
       "    <tr>\n",
       "      <th>3</th>\n",
       "      <td>Although a healthier alternative to your typical vanilla extract, I purchased this product to add some vanilla flavo...</td>\n",
       "      <td>0</td>\n",
       "    </tr>\n",
       "    <tr>\n",
       "      <th>4</th>\n",
       "      <td>In my latest test, I asked #ChatGPT to write me a welcome letter for our attendees for banking school. #bankingschoo...</td>\n",
       "      <td>1</td>\n",
       "    </tr>\n",
       "  </tbody>\n",
       "</table>\n",
       "</div>"
      ],
      "text/plain": [
       "                                                                                                                     texto  \\\n",
       "0  And here is the rap song \"African Warrior Queens\", for which ChatGPT wrote the lyrics 🤎 Yes, amateur but beautiful :...   \n",
       "1  We asked chatGPT ,\\n\\nHow to become a successful trader?\\n\\nHere is what it thinks,\\n\\n#ChatGPT https://t.co/UKfbOqyurW   \n",
       "2  When I finally manage to convince myself to peel out from under the sheets each morning the second thing I'm interes...   \n",
       "3  Although a healthier alternative to your typical vanilla extract, I purchased this product to add some vanilla flavo...   \n",
       "4  In my latest test, I asked #ChatGPT to write me a welcome letter for our attendees for banking school. #bankingschoo...   \n",
       "\n",
       "   etiqueta  \n",
       "0         1  \n",
       "1         1  \n",
       "2         0  \n",
       "3         0  \n",
       "4         1  "
      ]
     },
     "metadata": {},
     "output_type": "display_data"
    },
    {
     "name": "stdout",
     "output_type": "stream",
     "text": [
      "etiqueta\n",
      "1    40000\n",
      "0    40000\n",
      "Name: count, dtype: int64\n"
     ]
    }
   ],
   "source": [
    "# 🔎 Detección heurística (ajústalo si no acierta)\n",
    "text_candidates  = [c for c in df.columns if c.lower() in [\"text\",\"review\",\"tweet\",\"content\",\"comment\",\"sentence\",\"message\",\"texto\",\"reseña\",\"resena\"] or \"text\" in c.lower()]\n",
    "label_candidates = [c for c in df.columns if c.lower() in [\"label\",\"sentiment\",\"polarity\",\"target\",\"class\",\"etiqueta\"] or \"sentiment\" in c.lower()]\n",
    "\n",
    "TEXT_COL  = text_candidates[0]  if text_candidates else None\n",
    "LABEL_COL = label_candidates[0] if label_candidates else None\n",
    "\n",
    "# 👉 Si conoces los nombres exactos, descomenta y fija:\n",
    "# TEXT_COL  = \"texto\"\n",
    "# LABEL_COL = \"sentiment\"\n",
    "\n",
    "assert TEXT_COL is not None and LABEL_COL is not None, \"Ajusta TEXT_COL/LABEL_COL a los nombres reales.\"\n",
    "df = df[[TEXT_COL, LABEL_COL]].rename(columns={TEXT_COL:\"texto\", LABEL_COL:\"etiqueta\"}).dropna()\n",
    "df = df[df[\"texto\"].astype(str).str.strip()!=\"\"].copy()\n",
    "\n",
    "print(df.shape)\n",
    "display(df.head())\n",
    "print(df[\"etiqueta\"].value_counts())\n"
   ]
  },
  {
   "cell_type": "markdown",
   "id": "1f89fe18-c0c7-4191-b8c9-bc622864c222",
   "metadata": {},
   "source": [
    "# 4️⃣ Train/Test split"
   ]
  },
  {
   "cell_type": "code",
   "execution_count": 6,
   "id": "1f4391ee-40a0-4478-84bd-4c9a583fde4d",
   "metadata": {},
   "outputs": [
    {
     "name": "stdout",
     "output_type": "stream",
     "text": [
      "Train: (64000,)  Test: (16000,)\n"
     ]
    }
   ],
   "source": [
    "X = df[\"texto\"].astype(str)\n",
    "y = df[\"etiqueta\"].astype(str)\n",
    "\n",
    "X_train, X_test, y_train, y_test = train_test_split(\n",
    "    X, y, test_size=0.2, random_state=42, stratify=y\n",
    ")\n",
    "\n",
    "print(\"Train:\", X_train.shape, \" Test:\", X_test.shape)\n"
   ]
  },
  {
   "cell_type": "markdown",
   "id": "976fe077-03b6-4577-9dd3-464dd39f96fe",
   "metadata": {},
   "source": [
    "# 5️⃣ Pipeline"
   ]
  },
  {
   "cell_type": "code",
   "execution_count": 7,
   "id": "1cbb730e-673c-4304-99fd-ec7877c13c67",
   "metadata": {},
   "outputs": [],
   "source": [
    "# Idioma para stopwords: \"es\" (español) o \"en\" (inglés)\n",
    "IDIOMA = \"es\"  # cambia a \"en\" si tu dataset está en inglés\n",
    "\n",
    "pipe = Pipeline([\n",
    "    (\"tfidf\", TfidfVectorizer(\n",
    "        lowercase=True,\n",
    "        strip_accents=\"unicode\",\n",
    "        ngram_range=(1,2),      # unigrams + bigrams\n",
    "        min_df=2,               # ignora términos muy raros\n",
    "        max_df=0.95,            # ignora términos demasiado comunes\n",
    "        sublinear_tf=True,\n",
    "        stop_words=(\"spanish\" if IDIOMA==\"es\" else \"english\")\n",
    "    )),\n",
    "    (\"nb\", MultinomialNB(alpha=1.0))\n",
    "])\n"
   ]
  },
  {
   "cell_type": "markdown",
   "id": "228c6121-d342-4712-87be-662ec91f1fa9",
   "metadata": {},
   "source": [
    "# 6️⃣ Entrenamiento"
   ]
  },
  {
   "cell_type": "code",
   "execution_count": 15,
   "id": "59d13cd6-3145-4e4d-aa34-c3c720399bfe",
   "metadata": {},
   "outputs": [
    {
     "name": "stdout",
     "output_type": "stream",
     "text": [
      "Modelo entrenado ✅\n"
     ]
    }
   ],
   "source": [
    "pipe.fit(X_train, y_train)\n",
    "print(\"Modelo entrenado ✅\")\n"
   ]
  },
  {
   "cell_type": "markdown",
   "id": "0894f773-d75f-4907-afe7-16d00a83c198",
   "metadata": {},
   "source": [
    "# 7️⃣ Evaluación"
   ]
  },
  {
   "cell_type": "code",
   "execution_count": 16,
   "id": "28ca8d54-8b66-4047-b7b6-38bb5f1a8d02",
   "metadata": {},
   "outputs": [
    {
     "name": "stdout",
     "output_type": "stream",
     "text": [
      "Accuracy: 0.8261\n",
      "\n",
      "Classification report:\n",
      "              precision    recall  f1-score   support\n",
      "\n",
      "           0       0.84      0.80      0.82      8000\n",
      "           1       0.81      0.85      0.83      8000\n",
      "\n",
      "    accuracy                           0.83     16000\n",
      "   macro avg       0.83      0.83      0.83     16000\n",
      "weighted avg       0.83      0.83      0.83     16000\n",
      "\n"
     ]
    },
    {
     "data": {
      "text/plain": [
       "<Figure size 500x400 with 0 Axes>"
      ]
     },
     "metadata": {},
     "output_type": "display_data"
    },
    {
     "data": {
      "image/png": "[encoded data removed]",
      "text/plain": [
       "<Figure size 640x480 with 2 Axes>"
      ]
     },
     "metadata": {},
     "output_type": "display_data"
    }
   ],
   "source": [
    "y_pred = pipe.predict(X_test)\n",
    "acc = accuracy_score(y_test, y_pred)\n",
    "print(f\"Accuracy: {acc:.4f}\\n\")\n",
    "\n",
    "print(\"Classification report:\")\n",
    "print(classification_report(y_test, y_pred))\n",
    "\n",
    "# Matriz de confusión\n",
    "labels_orden = sorted(pd.unique(y_test))\n",
    "cm = confusion_matrix(y_test, y_pred, labels=labels_orden)\n",
    "disp = ConfusionMatrixDisplay(confusion_matrix=cm, display_labels=labels_orden)\n",
    "\n",
    "plt.figure(figsize=(5,4))\n",
    "disp.plot(cmap=\"Blues\", values_format=\"d\")\n",
    "plt.title(\"Matriz de confusión - MultinomialNB\")\n",
    "plt.tight_layout()\n",
    "plt.show()\n"
   ]
  },
  {
   "cell_type": "markdown",
   "id": "29cd0522-26b0-48b3-80a4-16cf6e1145cb",
   "metadata": {},
   "source": [
    "# 8️⃣ Predicción en nuevos textos"
   ]
  },
  {
   "cell_type": "code",
   "execution_count": 17,
   "id": "675a108b-4edc-4084-a9d9-5fc6fee3e70b",
   "metadata": {},
   "outputs": [
    {
     "data": {
      "text/html": [
       "<div>\n",
       "<style scoped>\n",
       "    .dataframe tbody tr th:only-of-type {\n",
       "        vertical-align: middle;\n",
       "    }\n",
       "\n",
       "    .dataframe tbody tr th {\n",
       "        vertical-align: top;\n",
       "    }\n",
       "\n",
       "    .dataframe thead th {\n",
       "        text-align: right;\n",
       "    }\n",
       "</style>\n",
       "<table border=\"1\" class=\"dataframe\">\n",
       "  <thead>\n",
       "    <tr style=\"text-align: right;\">\n",
       "      <th></th>\n",
       "      <th>texto</th>\n",
       "      <th>prediccion</th>\n",
       "      <th>confianza_max</th>\n",
       "    </tr>\n",
       "  </thead>\n",
       "  <tbody>\n",
       "    <tr>\n",
       "      <th>0</th>\n",
       "      <td>el servicio fue excelente</td>\n",
       "      <td>0</td>\n",
       "      <td>0.5</td>\n",
       "    </tr>\n",
       "    <tr>\n",
       "      <th>1</th>\n",
       "      <td>la comida llegó fría y tarde</td>\n",
       "      <td>0</td>\n",
       "      <td>0.5</td>\n",
       "    </tr>\n",
       "  </tbody>\n",
       "</table>\n",
       "</div>"
      ],
      "text/plain": [
       "                          texto prediccion  confianza_max\n",
       "0     el servicio fue excelente          0            0.5\n",
       "1  la comida llegó fría y tarde          0            0.5"
      ]
     },
     "execution_count": 17,
     "metadata": {},
     "output_type": "execute_result"
    }
   ],
   "source": [
    "def predecir(textos):\n",
    "    \"\"\"\n",
    "    textos: list[str] o pd.Series\n",
    "    return: DataFrame con texto y predicción\n",
    "    \"\"\"\n",
    "    textos = pd.Series(textos, name=\"texto\").astype(str)\n",
    "    preds = pipe.predict(textos)\n",
    "    probs = None\n",
    "    try:\n",
    "        probs = pipe.predict_proba(textos).max(axis=1)\n",
    "    except Exception:\n",
    "        pass\n",
    "    out = pd.DataFrame({\"texto\": textos, \"prediccion\": preds})\n",
    "    if probs is not None:\n",
    "        out[\"confianza_max\"] = probs\n",
    "    return out\n",
    "\n",
    "# Ejemplo:\n",
    "ejemplo = [\"el servicio fue excelente\", \"la comida llegó fría y tarde\"]\n",
    "predecir(ejemplo)\n"
   ]
  },
  {
   "cell_type": "markdown",
   "id": "36abfd34-4181-4fc1-906b-0e1e7cd50491",
   "metadata": {},
   "source": [
    "# 9️⃣ Guardar el modelo y el vectorizador"
   ]
  },
  {
   "cell_type": "code",
   "execution_count": 18,
   "id": "64ad01fd-d583-496c-a650-3c573f278c35",
   "metadata": {},
   "outputs": [
    {
     "name": "stdout",
     "output_type": "stream",
     "text": [
      "Modelo guardado en modelo_tfidf_nb.joblib\n"
     ]
    }
   ],
   "source": [
    "import joblib\n",
    "joblib.dump(pipe, \"modelo_tfidf_nb.joblib\")\n",
    "print(\"Modelo guardado en modelo_tfidf_nb.joblib\")\n"
   ]
  }
 ],
 "metadata": {
  "kernelspec": {
   "display_name": "Python 3 (ipykernel)",
   "language": "python",
   "name": "python3"
  },
  "language_info": {
   "codemirror_mode": {
    "name": "ipython",
    "version": 3
   },
   "file_extension": ".py",
   "mimetype": "text/x-python",
   "name": "python",
   "nbconvert_exporter": "python",
   "pygments_lexer": "ipython3",
   "version": "3.12.2"
  }
 },
 "nbformat": 4,
 "nbformat_minor": 5
}
